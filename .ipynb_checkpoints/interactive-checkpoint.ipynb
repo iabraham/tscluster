{
 "cells": [
  {
   "cell_type": "code",
   "execution_count": 1,
   "metadata": {},
   "outputs": [
    {
     "name": "stdout",
     "output_type": "stream",
     "text": [
      "Starting gzip\n",
      "Starting pickle\n",
      "End pickle\n"
     ]
    },
    {
     "name": "stderr",
     "output_type": "stream",
     "text": [
      "Using numpy backend.\n"
     ]
    }
   ],
   "source": [
    "from for_jupyter import all_data\n",
    "import numpy as np\n",
    "import tensorly as tl\n",
    "from copy import deepcopy\n",
    "import matplotlib\n",
    "matplotlib.use('Qt5Agg')\n",
    "import matplotlib.pyplot as plt\n",
    "from tsCluster.augments import augment_group"
   ]
  },
  {
   "cell_type": "markdown",
   "metadata": {},
   "source": [
    "# A smoothening example, takes a while"
   ]
  },
  {
   "cell_type": "code",
   "execution_count": 2,
   "metadata": {},
   "outputs": [],
   "source": [
    "alldata_cp = deepcopy(all_data)\n",
    "all_data.smoothen(low=0.008, high=0.08, filt='bessel')\n",
    "all_data.show_time_series('sub_122', run='run1', session='s1')\n",
    "alldata_cp.show_time_series('sub_122', run='run1', session='s1')"
   ]
  },
  {
   "cell_type": "markdown",
   "metadata": {},
   "source": [
    "# An augmentation example"
   ]
  },
  {
   "cell_type": "code",
   "execution_count": 3,
   "metadata": {},
   "outputs": [],
   "source": [
    "remList = ['sub_157', 'sub_158', 'sub_158', 'sub_162', 'sub_169', 'sub_182', 'sub_188', 'sub_210', 'sub_217', 'sub_903']\n",
    "\n",
    "all_data.mod_samples(op='rem', idxs=remList)\n",
    "all_data.mod_data_rem(idx_session='s1', idx_run='run3')\n",
    "\n",
    "hl = [sample for sample in all_data.samples if sample['Group']=='hl']\n",
    "ctr = [sample for sample in all_data.samples if sample['Group']=='ctr']\n",
    "tin = [sample for sample in all_data.samples if sample['Group']=='tin']\n",
    "\n",
    "hl_ag = augment_group(hl)\n",
    "ctr_ag = augment_group(ctr, num=4)\n",
    "tin_ag = augment_group(hl, num=5)\n",
    "\n",
    "augmented = hl_ag + ctr_ag + tin_ag\n",
    "\n",
    "all_data.__augment__(augmented)"
   ]
  },
  {
   "cell_type": "code",
   "execution_count": 4,
   "metadata": {},
   "outputs": [],
   "source": [
    "all_data.scatter(fig_num=1)\n",
    "alldata_cp.scatter(fig_num=2)"
   ]
  },
  {
   "cell_type": "code",
   "execution_count": null,
   "metadata": {},
   "outputs": [],
   "source": []
  }
 ],
 "metadata": {
  "kernelspec": {
   "display_name": "Python 3",
   "language": "python",
   "name": "python3"
  },
  "language_info": {
   "codemirror_mode": {
    "name": "ipython",
    "version": 3
   },
   "file_extension": ".py",
   "mimetype": "text/x-python",
   "name": "python",
   "nbconvert_exporter": "python",
   "pygments_lexer": "ipython3",
   "version": "3.6.2"
  }
 },
 "nbformat": 4,
 "nbformat_minor": 1
}
